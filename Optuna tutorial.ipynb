{
 "cells": [
  {
   "cell_type": "markdown",
   "metadata": {},
   "source": [
    "# Optuna tutorial\n",
    "# First Optimization\n",
    "https://optuna.readthedocs.io/en/latest/tutorial/first.html"
   ]
  },
  {
   "cell_type": "code",
   "execution_count": null,
   "metadata": {},
   "outputs": [],
   "source": [
    "import optuna"
   ]
  },
  {
   "cell_type": "code",
   "execution_count": 2,
   "metadata": {},
   "outputs": [],
   "source": [
    "def objective(trial):\n",
    "    x = trial.suggest_uniform('x', -10, 10)\n",
    "    return (x - 2) ** 2"
   ]
  },
  {
   "cell_type": "code",
   "execution_count": 3,
   "metadata": {},
   "outputs": [
    {
     "name": "stderr",
     "output_type": "stream",
     "text": [
      "[I 2019-05-07 20:16:35,035] Finished trial#0 resulted in value: 97.519511451623. Current best value is 97.519511451623 with parameters: {'x': -7.8751967804000245}.\n",
      "[I 2019-05-07 20:16:35,085] Finished trial#1 resulted in value: 2.004188562531124. Current best value is 2.004188562531124 with parameters: {'x': 0.5843063316765438}.\n",
      "[I 2019-05-07 20:16:35,127] Finished trial#2 resulted in value: 0.44568104626022353. Current best value is 0.44568104626022353 with parameters: {'x': 2.6675934737999043}.\n",
      "[I 2019-05-07 20:16:35,174] Finished trial#3 resulted in value: 34.70685080255409. Current best value is 0.44568104626022353 with parameters: {'x': 2.6675934737999043}.\n",
      "[I 2019-05-07 20:16:35,224] Finished trial#4 resulted in value: 26.365933263849584. Current best value is 0.44568104626022353 with parameters: {'x': 2.6675934737999043}.\n",
      "[I 2019-05-07 20:16:35,274] Finished trial#5 resulted in value: 66.00866986779525. Current best value is 0.44568104626022353 with parameters: {'x': 2.6675934737999043}.\n",
      "[I 2019-05-07 20:16:35,324] Finished trial#6 resulted in value: 97.67263624047132. Current best value is 0.44568104626022353 with parameters: {'x': 2.6675934737999043}.\n",
      "[I 2019-05-07 20:16:35,374] Finished trial#7 resulted in value: 10.555847213061858. Current best value is 0.44568104626022353 with parameters: {'x': 2.6675934737999043}.\n",
      "[I 2019-05-07 20:16:35,419] Finished trial#8 resulted in value: 8.553151998784884. Current best value is 0.44568104626022353 with parameters: {'x': 2.6675934737999043}.\n",
      "[I 2019-05-07 20:16:35,467] Finished trial#9 resulted in value: 49.488634239002806. Current best value is 0.44568104626022353 with parameters: {'x': 2.6675934737999043}.\n",
      "[I 2019-05-07 20:16:35,536] Finished trial#10 resulted in value: 11.769905550992107. Current best value is 0.44568104626022353 with parameters: {'x': 2.6675934737999043}.\n",
      "[I 2019-05-07 20:16:35,589] Finished trial#11 resulted in value: 3.09332383449746. Current best value is 0.44568104626022353 with parameters: {'x': 2.6675934737999043}.\n",
      "[I 2019-05-07 20:16:35,643] Finished trial#12 resulted in value: 29.241908179487304. Current best value is 0.44568104626022353 with parameters: {'x': 2.6675934737999043}.\n",
      "[I 2019-05-07 20:16:35,703] Finished trial#13 resulted in value: 0.4377009867704975. Current best value is 0.4377009867704975 with parameters: {'x': 2.661589742038446}.\n",
      "[I 2019-05-07 20:16:35,757] Finished trial#14 resulted in value: 0.819151064777745. Current best value is 0.4377009867704975 with parameters: {'x': 2.661589742038446}.\n",
      "[I 2019-05-07 20:16:35,814] Finished trial#15 resulted in value: 25.090866816514254. Current best value is 0.4377009867704975 with parameters: {'x': 2.661589742038446}.\n",
      "[I 2019-05-07 20:16:35,884] Finished trial#16 resulted in value: 63.7412790381138. Current best value is 0.4377009867704975 with parameters: {'x': 2.661589742038446}.\n",
      "[I 2019-05-07 20:16:35,936] Finished trial#17 resulted in value: 0.2571132612604385. Current best value is 0.2571132612604385 with parameters: {'x': 2.5070633700637805}.\n",
      "[I 2019-05-07 20:16:35,993] Finished trial#18 resulted in value: 1.2208367288378414. Current best value is 0.2571132612604385 with parameters: {'x': 2.5070633700637805}.\n",
      "[I 2019-05-07 20:16:36,053] Finished trial#19 resulted in value: 5.671698094263664. Current best value is 0.2571132612604385 with parameters: {'x': 2.5070633700637805}.\n",
      "[I 2019-05-07 20:16:36,122] Finished trial#20 resulted in value: 0.6129885939429662. Current best value is 0.2571132612604385 with parameters: {'x': 2.5070633700637805}.\n",
      "[I 2019-05-07 20:16:36,179] Finished trial#21 resulted in value: 20.767078887765297. Current best value is 0.2571132612604385 with parameters: {'x': 2.5070633700637805}.\n",
      "[I 2019-05-07 20:16:36,233] Finished trial#22 resulted in value: 14.368074996854878. Current best value is 0.2571132612604385 with parameters: {'x': 2.5070633700637805}.\n",
      "[I 2019-05-07 20:16:36,305] Finished trial#23 resulted in value: 45.218301838456306. Current best value is 0.2571132612604385 with parameters: {'x': 2.5070633700637805}.\n",
      "[I 2019-05-07 20:16:36,368] Finished trial#24 resulted in value: 0.017349060882001867. Current best value is 0.017349060882001867 with parameters: {'x': 1.868284166168217}.\n",
      "[I 2019-05-07 20:16:36,436] Finished trial#25 resulted in value: 8.626957300307875. Current best value is 0.017349060882001867 with parameters: {'x': 1.868284166168217}.\n",
      "[I 2019-05-07 20:16:36,492] Finished trial#26 resulted in value: 16.1617604238323. Current best value is 0.017349060882001867 with parameters: {'x': 1.868284166168217}.\n",
      "[I 2019-05-07 20:16:36,547] Finished trial#27 resulted in value: 139.4185062930937. Current best value is 0.017349060882001867 with parameters: {'x': 1.868284166168217}.\n",
      "[I 2019-05-07 20:16:36,602] Finished trial#28 resulted in value: 0.4188875503753508. Current best value is 0.017349060882001867 with parameters: {'x': 1.868284166168217}.\n",
      "[I 2019-05-07 20:16:36,664] Finished trial#29 resulted in value: 4.022156406514547. Current best value is 0.017349060882001867 with parameters: {'x': 1.868284166168217}.\n",
      "[I 2019-05-07 20:16:36,724] Finished trial#30 resulted in value: 0.058497535956379736. Current best value is 0.017349060882001867 with parameters: {'x': 1.868284166168217}.\n",
      "[I 2019-05-07 20:16:36,787] Finished trial#31 resulted in value: 3.329521223849684. Current best value is 0.017349060882001867 with parameters: {'x': 1.868284166168217}.\n",
      "[I 2019-05-07 20:16:36,850] Finished trial#32 resulted in value: 25.557058829133975. Current best value is 0.017349060882001867 with parameters: {'x': 1.868284166168217}.\n",
      "[I 2019-05-07 20:16:36,914] Finished trial#33 resulted in value: 45.706924128650336. Current best value is 0.017349060882001867 with parameters: {'x': 1.868284166168217}.\n",
      "[I 2019-05-07 20:16:36,991] Finished trial#34 resulted in value: 0.26897483120139876. Current best value is 0.017349060882001867 with parameters: {'x': 1.868284166168217}.\n",
      "[I 2019-05-07 20:16:37,060] Finished trial#35 resulted in value: 61.36146019840046. Current best value is 0.017349060882001867 with parameters: {'x': 1.868284166168217}.\n",
      "[I 2019-05-07 20:16:37,120] Finished trial#36 resulted in value: 6.646386195279502. Current best value is 0.017349060882001867 with parameters: {'x': 1.868284166168217}.\n",
      "[I 2019-05-07 20:16:37,179] Finished trial#37 resulted in value: 26.904679036100376. Current best value is 0.017349060882001867 with parameters: {'x': 1.868284166168217}.\n",
      "[I 2019-05-07 20:16:37,238] Finished trial#38 resulted in value: 13.691217793739924. Current best value is 0.017349060882001867 with parameters: {'x': 1.868284166168217}.\n",
      "[I 2019-05-07 20:16:37,307] Finished trial#39 resulted in value: 109.76470092351505. Current best value is 0.017349060882001867 with parameters: {'x': 1.868284166168217}.\n",
      "[I 2019-05-07 20:16:37,396] Finished trial#40 resulted in value: 17.81357406353129. Current best value is 0.017349060882001867 with parameters: {'x': 1.868284166168217}.\n",
      "[I 2019-05-07 20:16:37,494] Finished trial#41 resulted in value: 38.57644613238562. Current best value is 0.017349060882001867 with parameters: {'x': 1.868284166168217}.\n",
      "[I 2019-05-07 20:16:37,570] Finished trial#42 resulted in value: 4.120061705521493. Current best value is 0.017349060882001867 with parameters: {'x': 1.868284166168217}.\n",
      "[I 2019-05-07 20:16:37,642] Finished trial#43 resulted in value: 31.455985032109385. Current best value is 0.017349060882001867 with parameters: {'x': 1.868284166168217}.\n",
      "[I 2019-05-07 20:16:37,704] Finished trial#44 resulted in value: 70.06844277052627. Current best value is 0.017349060882001867 with parameters: {'x': 1.868284166168217}.\n",
      "[I 2019-05-07 20:16:37,777] Finished trial#45 resulted in value: 0.0037469906122592836. Current best value is 0.0037469906122592836 with parameters: {'x': 1.938787332910097}.\n",
      "[I 2019-05-07 20:16:37,854] Finished trial#46 resulted in value: 2.1902139711517754. Current best value is 0.0037469906122592836 with parameters: {'x': 1.938787332910097}.\n",
      "[I 2019-05-07 20:16:37,933] Finished trial#47 resulted in value: 2.7348966832588193. Current best value is 0.0037469906122592836 with parameters: {'x': 1.938787332910097}.\n"
     ]
    },
    {
     "name": "stderr",
     "output_type": "stream",
     "text": [
      "[I 2019-05-07 20:16:38,006] Finished trial#48 resulted in value: 9.418344698334552. Current best value is 0.0037469906122592836 with parameters: {'x': 1.938787332910097}.\n",
      "[I 2019-05-07 20:16:38,074] Finished trial#49 resulted in value: 0.0217803815694085. Current best value is 0.0037469906122592836 with parameters: {'x': 1.938787332910097}.\n",
      "[I 2019-05-07 20:16:38,154] Finished trial#50 resulted in value: 55.78204145881736. Current best value is 0.0037469906122592836 with parameters: {'x': 1.938787332910097}.\n",
      "[I 2019-05-07 20:16:38,222] Finished trial#51 resulted in value: 7.2551863908033765. Current best value is 0.0037469906122592836 with parameters: {'x': 1.938787332910097}.\n",
      "[I 2019-05-07 20:16:38,292] Finished trial#52 resulted in value: 36.83657098376698. Current best value is 0.0037469906122592836 with parameters: {'x': 1.938787332910097}.\n",
      "[I 2019-05-07 20:16:38,351] Finished trial#53 resulted in value: 1.1618151204500178. Current best value is 0.0037469906122592836 with parameters: {'x': 1.938787332910097}.\n",
      "[I 2019-05-07 20:16:38,422] Finished trial#54 resulted in value: 17.723134519800393. Current best value is 0.0037469906122592836 with parameters: {'x': 1.938787332910097}.\n",
      "[I 2019-05-07 20:16:38,498] Finished trial#55 resulted in value: 19.432969506955008. Current best value is 0.0037469906122592836 with parameters: {'x': 1.938787332910097}.\n",
      "[I 2019-05-07 20:16:38,556] Finished trial#56 resulted in value: 7.234689446964936. Current best value is 0.0037469906122592836 with parameters: {'x': 1.938787332910097}.\n",
      "[I 2019-05-07 20:16:38,617] Finished trial#57 resulted in value: 35.75227483127938. Current best value is 0.0037469906122592836 with parameters: {'x': 1.938787332910097}.\n",
      "[I 2019-05-07 20:16:38,685] Finished trial#58 resulted in value: 2.278118362392725. Current best value is 0.0037469906122592836 with parameters: {'x': 1.938787332910097}.\n",
      "[I 2019-05-07 20:16:38,759] Finished trial#59 resulted in value: 5.599800619303134. Current best value is 0.0037469906122592836 with parameters: {'x': 1.938787332910097}.\n",
      "[I 2019-05-07 20:16:38,828] Finished trial#60 resulted in value: 10.789527017359895. Current best value is 0.0037469906122592836 with parameters: {'x': 1.938787332910097}.\n",
      "[I 2019-05-07 20:16:38,894] Finished trial#61 resulted in value: 11.861169727810816. Current best value is 0.0037469906122592836 with parameters: {'x': 1.938787332910097}.\n",
      "[I 2019-05-07 20:16:38,960] Finished trial#62 resulted in value: 50.474655652417546. Current best value is 0.0037469906122592836 with parameters: {'x': 1.938787332910097}.\n",
      "[I 2019-05-07 20:16:39,024] Finished trial#63 resulted in value: 1.8554763654011428. Current best value is 0.0037469906122592836 with parameters: {'x': 1.938787332910097}.\n",
      "[I 2019-05-07 20:16:39,085] Finished trial#64 resulted in value: 83.45318757877205. Current best value is 0.0037469906122592836 with parameters: {'x': 1.938787332910097}.\n",
      "[I 2019-05-07 20:16:39,143] Finished trial#65 resulted in value: 0.3353206242892632. Current best value is 0.0037469906122592836 with parameters: {'x': 1.938787332910097}.\n",
      "[I 2019-05-07 20:16:39,203] Finished trial#66 resulted in value: 0.058369528130398626. Current best value is 0.0037469906122592836 with parameters: {'x': 1.938787332910097}.\n",
      "[I 2019-05-07 20:16:39,266] Finished trial#67 resulted in value: 0.005782091447939076. Current best value is 0.0037469906122592836 with parameters: {'x': 1.938787332910097}.\n",
      "[I 2019-05-07 20:16:39,327] Finished trial#68 resulted in value: 0.9773593238684619. Current best value is 0.0037469906122592836 with parameters: {'x': 1.938787332910097}.\n",
      "[I 2019-05-07 20:16:39,394] Finished trial#69 resulted in value: 0.028125475195924475. Current best value is 0.0037469906122592836 with parameters: {'x': 1.938787332910097}.\n",
      "[I 2019-05-07 20:16:39,458] Finished trial#70 resulted in value: 18.998487892037403. Current best value is 0.0037469906122592836 with parameters: {'x': 1.938787332910097}.\n",
      "[I 2019-05-07 20:16:39,519] Finished trial#71 resulted in value: 4.178847399683546. Current best value is 0.0037469906122592836 with parameters: {'x': 1.938787332910097}.\n",
      "[I 2019-05-07 20:16:39,582] Finished trial#72 resulted in value: 12.547711884261284. Current best value is 0.0037469906122592836 with parameters: {'x': 1.938787332910097}.\n",
      "[I 2019-05-07 20:16:39,646] Finished trial#73 resulted in value: 0.5976553925258974. Current best value is 0.0037469906122592836 with parameters: {'x': 1.938787332910097}.\n",
      "[I 2019-05-07 20:16:39,712] Finished trial#74 resulted in value: 4.524102873159502. Current best value is 0.0037469906122592836 with parameters: {'x': 1.938787332910097}.\n",
      "[I 2019-05-07 20:16:39,778] Finished trial#75 resulted in value: 2.288402247274734. Current best value is 0.0037469906122592836 with parameters: {'x': 1.938787332910097}.\n",
      "[I 2019-05-07 20:16:39,839] Finished trial#76 resulted in value: 6.934471334561723. Current best value is 0.0037469906122592836 with parameters: {'x': 1.938787332910097}.\n",
      "[I 2019-05-07 20:16:39,899] Finished trial#77 resulted in value: 22.056198900487843. Current best value is 0.0037469906122592836 with parameters: {'x': 1.938787332910097}.\n",
      "[I 2019-05-07 20:16:39,974] Finished trial#78 resulted in value: 23.653793956158047. Current best value is 0.0037469906122592836 with parameters: {'x': 1.938787332910097}.\n",
      "[I 2019-05-07 20:16:40,049] Finished trial#79 resulted in value: 15.660746151367555. Current best value is 0.0037469906122592836 with parameters: {'x': 1.938787332910097}.\n",
      "[I 2019-05-07 20:16:40,130] Finished trial#80 resulted in value: 9.073577590470988. Current best value is 0.0037469906122592836 with parameters: {'x': 1.938787332910097}.\n",
      "[I 2019-05-07 20:16:40,204] Finished trial#81 resulted in value: 4.3742730166996235. Current best value is 0.0037469906122592836 with parameters: {'x': 1.938787332910097}.\n",
      "[I 2019-05-07 20:16:40,276] Finished trial#82 resulted in value: 1.490301712943014. Current best value is 0.0037469906122592836 with parameters: {'x': 1.938787332910097}.\n",
      "[I 2019-05-07 20:16:40,347] Finished trial#83 resulted in value: 0.007417767248222972. Current best value is 0.0037469906122592836 with parameters: {'x': 1.938787332910097}.\n",
      "[I 2019-05-07 20:16:40,415] Finished trial#84 resulted in value: 1.662659292576854. Current best value is 0.0037469906122592836 with parameters: {'x': 1.938787332910097}.\n",
      "[I 2019-05-07 20:16:40,485] Finished trial#85 resulted in value: 10.940999352464315. Current best value is 0.0037469906122592836 with parameters: {'x': 1.938787332910097}.\n",
      "[I 2019-05-07 20:16:40,553] Finished trial#86 resulted in value: 33.04066537844255. Current best value is 0.0037469906122592836 with parameters: {'x': 1.938787332910097}.\n",
      "[I 2019-05-07 20:16:40,620] Finished trial#87 resulted in value: 32.2637327655232. Current best value is 0.0037469906122592836 with parameters: {'x': 1.938787332910097}.\n",
      "[I 2019-05-07 20:16:40,688] Finished trial#88 resulted in value: 42.249650665296954. Current best value is 0.0037469906122592836 with parameters: {'x': 1.938787332910097}.\n",
      "[I 2019-05-07 20:16:40,751] Finished trial#89 resulted in value: 62.442739195951404. Current best value is 0.0037469906122592836 with parameters: {'x': 1.938787332910097}.\n",
      "[I 2019-05-07 20:16:40,820] Finished trial#90 resulted in value: 14.637797984154844. Current best value is 0.0037469906122592836 with parameters: {'x': 1.938787332910097}.\n",
      "[I 2019-05-07 20:16:40,888] Finished trial#91 resulted in value: 26.829784367354595. Current best value is 0.0037469906122592836 with parameters: {'x': 1.938787332910097}.\n",
      "[I 2019-05-07 20:16:40,956] Finished trial#92 resulted in value: 2.552957008565473. Current best value is 0.0037469906122592836 with parameters: {'x': 1.938787332910097}.\n",
      "[I 2019-05-07 20:16:41,021] Finished trial#93 resulted in value: 137.89311389933033. Current best value is 0.0037469906122592836 with parameters: {'x': 1.938787332910097}.\n",
      "[I 2019-05-07 20:16:41,087] Finished trial#94 resulted in value: 48.12428437240849. Current best value is 0.0037469906122592836 with parameters: {'x': 1.938787332910097}.\n"
     ]
    },
    {
     "name": "stderr",
     "output_type": "stream",
     "text": [
      "[I 2019-05-07 20:16:41,154] Finished trial#95 resulted in value: 0.000704718985733366. Current best value is 0.000704718985733366 with parameters: {'x': 2.026546543762482}.\n",
      "[I 2019-05-07 20:16:41,227] Finished trial#96 resulted in value: 0.6246481917803284. Current best value is 0.000704718985733366 with parameters: {'x': 2.026546543762482}.\n",
      "[I 2019-05-07 20:16:41,298] Finished trial#97 resulted in value: 3.798706891042834. Current best value is 0.000704718985733366 with parameters: {'x': 2.026546543762482}.\n",
      "[I 2019-05-07 20:16:41,369] Finished trial#98 resulted in value: 0.1786462219060774. Current best value is 0.000704718985733366 with parameters: {'x': 2.026546543762482}.\n",
      "[I 2019-05-07 20:16:41,443] Finished trial#99 resulted in value: 21.33784142636953. Current best value is 0.000704718985733366 with parameters: {'x': 2.026546543762482}.\n"
     ]
    }
   ],
   "source": [
    "study = optuna.create_study()\n",
    "study.optimize(objective, n_trials=100)"
   ]
  },
  {
   "cell_type": "code",
   "execution_count": 4,
   "metadata": {},
   "outputs": [
    {
     "data": {
      "text/plain": [
       "{'x': 2.026546543762482}"
      ]
     },
     "execution_count": 4,
     "metadata": {},
     "output_type": "execute_result"
    }
   ],
   "source": [
    "study.best_params"
   ]
  },
  {
   "cell_type": "code",
   "execution_count": 5,
   "metadata": {},
   "outputs": [
    {
     "data": {
      "text/plain": [
       "0.000704718985733366"
      ]
     },
     "execution_count": 5,
     "metadata": {},
     "output_type": "execute_result"
    }
   ],
   "source": [
    "study.best_value"
   ]
  },
  {
   "cell_type": "code",
   "execution_count": 6,
   "metadata": {},
   "outputs": [
    {
     "data": {
      "text/plain": [
       "FrozenTrial(number=95, state=<TrialState.COMPLETE: 1>, value=0.000704718985733366, datetime_start=datetime.datetime(2019, 5, 7, 20, 16, 41, 92477), datetime_complete=datetime.datetime(2019, 5, 7, 20, 16, 41, 140970), params={'x': 2.026546543762482}, user_attrs={}, system_attrs={'_number': 95}, intermediate_values={}, params_in_internal_repr={'x': 2.026546543762482}, trial_id=95)"
      ]
     },
     "execution_count": 6,
     "metadata": {},
     "output_type": "execute_result"
    }
   ],
   "source": [
    "study.best_trial"
   ]
  },
  {
   "cell_type": "code",
   "execution_count": 7,
   "metadata": {},
   "outputs": [
    {
     "data": {
      "text/plain": [
       "[FrozenTrial(number=0, state=<TrialState.COMPLETE: 1>, value=97.519511451623, datetime_start=datetime.datetime(2019, 5, 7, 20, 16, 34, 994447), datetime_complete=datetime.datetime(2019, 5, 7, 20, 16, 35, 35470), params={'x': -7.8751967804000245}, user_attrs={}, system_attrs={'_number': 0}, intermediate_values={}, params_in_internal_repr={'x': -7.8751967804000245}, trial_id=0),\n",
       " FrozenTrial(number=1, state=<TrialState.COMPLETE: 1>, value=2.004188562531124, datetime_start=datetime.datetime(2019, 5, 7, 20, 16, 35, 40622), datetime_complete=datetime.datetime(2019, 5, 7, 20, 16, 35, 85303), params={'x': 0.5843063316765438}, user_attrs={}, system_attrs={'_number': 1}, intermediate_values={}, params_in_internal_repr={'x': 0.5843063316765438}, trial_id=1),\n",
       " FrozenTrial(number=2, state=<TrialState.COMPLETE: 1>, value=0.44568104626022353, datetime_start=datetime.datetime(2019, 5, 7, 20, 16, 35, 89263), datetime_complete=datetime.datetime(2019, 5, 7, 20, 16, 35, 126610), params={'x': 2.6675934737999043}, user_attrs={}, system_attrs={'_number': 2}, intermediate_values={}, params_in_internal_repr={'x': 2.6675934737999043}, trial_id=2),\n",
       " FrozenTrial(number=3, state=<TrialState.COMPLETE: 1>, value=34.70685080255409, datetime_start=datetime.datetime(2019, 5, 7, 20, 16, 35, 131064), datetime_complete=datetime.datetime(2019, 5, 7, 20, 16, 35, 173450), params={'x': 7.891252057292583}, user_attrs={}, system_attrs={'_number': 3}, intermediate_values={}, params_in_internal_repr={'x': 7.891252057292583}, trial_id=3),\n",
       " FrozenTrial(number=4, state=<TrialState.COMPLETE: 1>, value=26.365933263849584, datetime_start=datetime.datetime(2019, 5, 7, 20, 16, 35, 180330), datetime_complete=datetime.datetime(2019, 5, 7, 20, 16, 35, 223611), params={'x': 7.134776846548405}, user_attrs={}, system_attrs={'_number': 4}, intermediate_values={}, params_in_internal_repr={'x': 7.134776846548405}, trial_id=4),\n",
       " FrozenTrial(number=5, state=<TrialState.COMPLETE: 1>, value=66.00866986779525, datetime_start=datetime.datetime(2019, 5, 7, 20, 16, 35, 227924), datetime_complete=datetime.datetime(2019, 5, 7, 20, 16, 35, 273696), params={'x': -6.124571980590439}, user_attrs={}, system_attrs={'_number': 5}, intermediate_values={}, params_in_internal_repr={'x': -6.124571980590439}, trial_id=5),\n",
       " FrozenTrial(number=6, state=<TrialState.COMPLETE: 1>, value=97.67263624047132, datetime_start=datetime.datetime(2019, 5, 7, 20, 16, 35, 282337), datetime_complete=datetime.datetime(2019, 5, 7, 20, 16, 35, 323663), params={'x': -7.882946738724808}, user_attrs={}, system_attrs={'_number': 6}, intermediate_values={}, params_in_internal_repr={'x': -7.882946738724808}, trial_id=6),\n",
       " FrozenTrial(number=7, state=<TrialState.COMPLETE: 1>, value=10.555847213061858, datetime_start=datetime.datetime(2019, 5, 7, 20, 16, 35, 329921), datetime_complete=datetime.datetime(2019, 5, 7, 20, 16, 35, 372778), params={'x': 5.24897633310276}, user_attrs={}, system_attrs={'_number': 7}, intermediate_values={}, params_in_internal_repr={'x': 5.24897633310276}, trial_id=7),\n",
       " FrozenTrial(number=8, state=<TrialState.COMPLETE: 1>, value=8.553151998784884, datetime_start=datetime.datetime(2019, 5, 7, 20, 16, 35, 379434), datetime_complete=datetime.datetime(2019, 5, 7, 20, 16, 35, 418586), params={'x': 4.924577234197258}, user_attrs={}, system_attrs={'_number': 8}, intermediate_values={}, params_in_internal_repr={'x': 4.924577234197258}, trial_id=8),\n",
       " FrozenTrial(number=9, state=<TrialState.COMPLETE: 1>, value=49.488634239002806, datetime_start=datetime.datetime(2019, 5, 7, 20, 16, 35, 425388), datetime_complete=datetime.datetime(2019, 5, 7, 20, 16, 35, 465723), params={'x': 9.034815863901684}, user_attrs={}, system_attrs={'_number': 9}, intermediate_values={}, params_in_internal_repr={'x': 9.034815863901684}, trial_id=9),\n",
       " FrozenTrial(number=10, state=<TrialState.COMPLETE: 1>, value=11.769905550992107, datetime_start=datetime.datetime(2019, 5, 7, 20, 16, 35, 476357), datetime_complete=datetime.datetime(2019, 5, 7, 20, 16, 35, 535450), params={'x': -1.4307295945603329}, user_attrs={}, system_attrs={'_number': 10}, intermediate_values={}, params_in_internal_repr={'x': -1.4307295945603329}, trial_id=10),\n",
       " FrozenTrial(number=11, state=<TrialState.COMPLETE: 1>, value=3.09332383449746, datetime_start=datetime.datetime(2019, 5, 7, 20, 16, 35, 541536), datetime_complete=datetime.datetime(2019, 5, 7, 20, 16, 35, 586705), params={'x': 0.24121523929235167}, user_attrs={}, system_attrs={'_number': 11}, intermediate_values={}, params_in_internal_repr={'x': 0.24121523929235167}, trial_id=11),\n",
       " FrozenTrial(number=12, state=<TrialState.COMPLETE: 1>, value=29.241908179487304, datetime_start=datetime.datetime(2019, 5, 7, 20, 16, 35, 594699), datetime_complete=datetime.datetime(2019, 5, 7, 20, 16, 35, 641564), params={'x': -3.407578772379308}, user_attrs={}, system_attrs={'_number': 12}, intermediate_values={}, params_in_internal_repr={'x': -3.407578772379308}, trial_id=12),\n",
       " FrozenTrial(number=13, state=<TrialState.COMPLETE: 1>, value=0.4377009867704975, datetime_start=datetime.datetime(2019, 5, 7, 20, 16, 35, 648949), datetime_complete=datetime.datetime(2019, 5, 7, 20, 16, 35, 699409), params={'x': 2.661589742038446}, user_attrs={}, system_attrs={'_number': 13}, intermediate_values={}, params_in_internal_repr={'x': 2.661589742038446}, trial_id=13),\n",
       " FrozenTrial(number=14, state=<TrialState.COMPLETE: 1>, value=0.819151064777745, datetime_start=datetime.datetime(2019, 5, 7, 20, 16, 35, 709395), datetime_complete=datetime.datetime(2019, 5, 7, 20, 16, 35, 755107), params={'x': 2.9050696463685792}, user_attrs={}, system_attrs={'_number': 14}, intermediate_values={}, params_in_internal_repr={'x': 2.9050696463685792}, trial_id=14),\n",
       " FrozenTrial(number=15, state=<TrialState.COMPLETE: 1>, value=25.090866816514254, datetime_start=datetime.datetime(2019, 5, 7, 20, 16, 35, 762112), datetime_complete=datetime.datetime(2019, 5, 7, 20, 16, 35, 811857), params={'x': -3.0090784398444246}, user_attrs={}, system_attrs={'_number': 15}, intermediate_values={}, params_in_internal_repr={'x': -3.0090784398444246}, trial_id=15),\n",
       " FrozenTrial(number=16, state=<TrialState.COMPLETE: 1>, value=63.7412790381138, datetime_start=datetime.datetime(2019, 5, 7, 20, 16, 35, 818809), datetime_complete=datetime.datetime(2019, 5, 7, 20, 16, 35, 881145), params={'x': 9.983813564839412}, user_attrs={}, system_attrs={'_number': 16}, intermediate_values={}, params_in_internal_repr={'x': 9.983813564839412}, trial_id=16),\n",
       " FrozenTrial(number=17, state=<TrialState.COMPLETE: 1>, value=0.2571132612604385, datetime_start=datetime.datetime(2019, 5, 7, 20, 16, 35, 887063), datetime_complete=datetime.datetime(2019, 5, 7, 20, 16, 35, 934616), params={'x': 2.5070633700637805}, user_attrs={}, system_attrs={'_number': 17}, intermediate_values={}, params_in_internal_repr={'x': 2.5070633700637805}, trial_id=17),\n",
       " FrozenTrial(number=18, state=<TrialState.COMPLETE: 1>, value=1.2208367288378414, datetime_start=datetime.datetime(2019, 5, 7, 20, 16, 35, 940254), datetime_complete=datetime.datetime(2019, 5, 7, 20, 16, 35, 989771), params={'x': 3.104914806144728}, user_attrs={}, system_attrs={'_number': 18}, intermediate_values={}, params_in_internal_repr={'x': 3.104914806144728}, trial_id=18),\n",
       " FrozenTrial(number=19, state=<TrialState.COMPLETE: 1>, value=5.671698094263664, datetime_start=datetime.datetime(2019, 5, 7, 20, 16, 35, 997502), datetime_complete=datetime.datetime(2019, 5, 7, 20, 16, 36, 50473), params={'x': 4.381532719545055}, user_attrs={}, system_attrs={'_number': 19}, intermediate_values={}, params_in_internal_repr={'x': 4.381532719545055}, trial_id=19),\n",
       " FrozenTrial(number=20, state=<TrialState.COMPLETE: 1>, value=0.6129885939429662, datetime_start=datetime.datetime(2019, 5, 7, 20, 16, 36, 60172), datetime_complete=datetime.datetime(2019, 5, 7, 20, 16, 36, 120392), params={'x': 1.217064118881395}, user_attrs={}, system_attrs={'_number': 20}, intermediate_values={}, params_in_internal_repr={'x': 1.217064118881395}, trial_id=20),\n",
       " FrozenTrial(number=21, state=<TrialState.COMPLETE: 1>, value=20.767078887765297, datetime_start=datetime.datetime(2019, 5, 7, 20, 16, 36, 130789), datetime_complete=datetime.datetime(2019, 5, 7, 20, 16, 36, 175379), params={'x': 6.5570910554612905}, user_attrs={}, system_attrs={'_number': 21}, intermediate_values={}, params_in_internal_repr={'x': 6.5570910554612905}, trial_id=21),\n",
       " FrozenTrial(number=22, state=<TrialState.COMPLETE: 1>, value=14.368074996854878, datetime_start=datetime.datetime(2019, 5, 7, 20, 16, 36, 182116), datetime_complete=datetime.datetime(2019, 5, 7, 20, 16, 36, 230875), params={'x': -1.790524369642659}, user_attrs={}, system_attrs={'_number': 22}, intermediate_values={}, params_in_internal_repr={'x': -1.790524369642659}, trial_id=22),\n",
       " FrozenTrial(number=23, state=<TrialState.COMPLETE: 1>, value=45.218301838456306, datetime_start=datetime.datetime(2019, 5, 7, 20, 16, 36, 238786), datetime_complete=datetime.datetime(2019, 5, 7, 20, 16, 36, 302178), params={'x': -4.724455504980035}, user_attrs={}, system_attrs={'_number': 23}, intermediate_values={}, params_in_internal_repr={'x': -4.724455504980035}, trial_id=23),\n",
       " FrozenTrial(number=24, state=<TrialState.COMPLETE: 1>, value=0.017349060882001867, datetime_start=datetime.datetime(2019, 5, 7, 20, 16, 36, 311388), datetime_complete=datetime.datetime(2019, 5, 7, 20, 16, 36, 364475), params={'x': 1.868284166168217}, user_attrs={}, system_attrs={'_number': 24}, intermediate_values={}, params_in_internal_repr={'x': 1.868284166168217}, trial_id=24),\n",
       " FrozenTrial(number=25, state=<TrialState.COMPLETE: 1>, value=8.626957300307875, datetime_start=datetime.datetime(2019, 5, 7, 20, 16, 36, 374840), datetime_complete=datetime.datetime(2019, 5, 7, 20, 16, 36, 432183), params={'x': -0.9371682451483565}, user_attrs={}, system_attrs={'_number': 25}, intermediate_values={}, params_in_internal_repr={'x': -0.9371682451483565}, trial_id=25),\n",
       " FrozenTrial(number=26, state=<TrialState.COMPLETE: 1>, value=16.1617604238323, datetime_start=datetime.datetime(2019, 5, 7, 20, 16, 36, 442782), datetime_complete=datetime.datetime(2019, 5, 7, 20, 16, 36, 488963), params={'x': 6.020169203383397}, user_attrs={}, system_attrs={'_number': 26}, intermediate_values={}, params_in_internal_repr={'x': 6.020169203383397}, trial_id=26),\n",
       " FrozenTrial(number=27, state=<TrialState.COMPLETE: 1>, value=139.4185062930937, datetime_start=datetime.datetime(2019, 5, 7, 20, 16, 36, 498596), datetime_complete=datetime.datetime(2019, 5, 7, 20, 16, 36, 543733), params={'x': -9.807561403316678}, user_attrs={}, system_attrs={'_number': 27}, intermediate_values={}, params_in_internal_repr={'x': -9.807561403316678}, trial_id=27),\n",
       " FrozenTrial(number=28, state=<TrialState.COMPLETE: 1>, value=0.4188875503753508, datetime_start=datetime.datetime(2019, 5, 7, 20, 16, 36, 551663), datetime_complete=datetime.datetime(2019, 5, 7, 20, 16, 36, 597870), params={'x': 1.3527847727568898}, user_attrs={}, system_attrs={'_number': 28}, intermediate_values={}, params_in_internal_repr={'x': 1.3527847727568898}, trial_id=28),\n",
       " FrozenTrial(number=29, state=<TrialState.COMPLETE: 1>, value=4.022156406514547, datetime_start=datetime.datetime(2019, 5, 7, 20, 16, 36, 606066), datetime_complete=datetime.datetime(2019, 5, 7, 20, 16, 36, 659114), params={'x': 4.005531452387259}, user_attrs={}, system_attrs={'_number': 29}, intermediate_values={}, params_in_internal_repr={'x': 4.005531452387259}, trial_id=29),\n",
       " FrozenTrial(number=30, state=<TrialState.COMPLETE: 1>, value=0.058497535956379736, datetime_start=datetime.datetime(2019, 5, 7, 20, 16, 36, 669206), datetime_complete=datetime.datetime(2019, 5, 7, 20, 16, 36, 720983), params={'x': 1.758137361387957}, user_attrs={}, system_attrs={'_number': 30}, intermediate_values={}, params_in_internal_repr={'x': 1.758137361387957}, trial_id=30),\n",
       " FrozenTrial(number=31, state=<TrialState.COMPLETE: 1>, value=3.329521223849684, datetime_start=datetime.datetime(2019, 5, 7, 20, 16, 36, 728777), datetime_complete=datetime.datetime(2019, 5, 7, 20, 16, 36, 781045), params={'x': 0.17530242948326258}, user_attrs={}, system_attrs={'_number': 31}, intermediate_values={}, params_in_internal_repr={'x': 0.17530242948326258}, trial_id=31),\n",
       " FrozenTrial(number=32, state=<TrialState.COMPLETE: 1>, value=25.557058829133975, datetime_start=datetime.datetime(2019, 5, 7, 20, 16, 36, 791332), datetime_complete=datetime.datetime(2019, 5, 7, 20, 16, 36, 845391), params={'x': -3.055398978234456}, user_attrs={}, system_attrs={'_number': 32}, intermediate_values={}, params_in_internal_repr={'x': -3.055398978234456}, trial_id=32),\n",
       " FrozenTrial(number=33, state=<TrialState.COMPLETE: 1>, value=45.706924128650336, datetime_start=datetime.datetime(2019, 5, 7, 20, 16, 36, 858424), datetime_complete=datetime.datetime(2019, 5, 7, 20, 16, 36, 908209), params={'x': 8.760689619310321}, user_attrs={}, system_attrs={'_number': 33}, intermediate_values={}, params_in_internal_repr={'x': 8.760689619310321}, trial_id=33),\n",
       " FrozenTrial(number=34, state=<TrialState.COMPLETE: 1>, value=0.26897483120139876, datetime_start=datetime.datetime(2019, 5, 7, 20, 16, 36, 922782), datetime_complete=datetime.datetime(2019, 5, 7, 20, 16, 36, 985072), params={'x': 1.4813721650341174}, user_attrs={}, system_attrs={'_number': 34}, intermediate_values={}, params_in_internal_repr={'x': 1.4813721650341174}, trial_id=34),\n",
       " FrozenTrial(number=35, state=<TrialState.COMPLETE: 1>, value=61.36146019840046, datetime_start=datetime.datetime(2019, 5, 7, 20, 16, 37, 2283), datetime_complete=datetime.datetime(2019, 5, 7, 20, 16, 37, 54985), params={'x': -5.833355615469047}, user_attrs={}, system_attrs={'_number': 35}, intermediate_values={}, params_in_internal_repr={'x': -5.833355615469047}, trial_id=35),\n",
       " FrozenTrial(number=36, state=<TrialState.COMPLETE: 1>, value=6.646386195279502, datetime_start=datetime.datetime(2019, 5, 7, 20, 16, 37, 64264), datetime_complete=datetime.datetime(2019, 5, 7, 20, 16, 37, 114132), params={'x': -0.5780586097448408}, user_attrs={}, system_attrs={'_number': 36}, intermediate_values={}, params_in_internal_repr={'x': -0.5780586097448408}, trial_id=36),\n",
       " FrozenTrial(number=37, state=<TrialState.COMPLETE: 1>, value=26.904679036100376, datetime_start=datetime.datetime(2019, 5, 7, 20, 16, 37, 125091), datetime_complete=datetime.datetime(2019, 5, 7, 20, 16, 37, 172218), params={'x': 7.186972048902941}, user_attrs={}, system_attrs={'_number': 37}, intermediate_values={}, params_in_internal_repr={'x': 7.186972048902941}, trial_id=37),\n",
       " FrozenTrial(number=38, state=<TrialState.COMPLETE: 1>, value=13.691217793739924, datetime_start=datetime.datetime(2019, 5, 7, 20, 16, 37, 183602), datetime_complete=datetime.datetime(2019, 5, 7, 20, 16, 37, 230983), params={'x': 5.700164563062017}, user_attrs={}, system_attrs={'_number': 38}, intermediate_values={}, params_in_internal_repr={'x': 5.700164563062017}, trial_id=38),\n",
       " FrozenTrial(number=39, state=<TrialState.COMPLETE: 1>, value=109.76470092351505, datetime_start=datetime.datetime(2019, 5, 7, 20, 16, 37, 243055), datetime_complete=datetime.datetime(2019, 5, 7, 20, 16, 37, 300457), params={'x': -8.476865033182161}, user_attrs={}, system_attrs={'_number': 39}, intermediate_values={}, params_in_internal_repr={'x': -8.476865033182161}, trial_id=39),\n",
       " FrozenTrial(number=40, state=<TrialState.COMPLETE: 1>, value=17.81357406353129, datetime_start=datetime.datetime(2019, 5, 7, 20, 16, 37, 315694), datetime_complete=datetime.datetime(2019, 5, 7, 20, 16, 37, 376098), params={'x': -2.220612996180921}, user_attrs={}, system_attrs={'_number': 40}, intermediate_values={}, params_in_internal_repr={'x': -2.220612996180921}, trial_id=40),\n",
       " FrozenTrial(number=41, state=<TrialState.COMPLETE: 1>, value=38.57644613238562, datetime_start=datetime.datetime(2019, 5, 7, 20, 16, 37, 404819), datetime_complete=datetime.datetime(2019, 5, 7, 20, 16, 37, 485289), params={'x': -4.210993972979335}, user_attrs={}, system_attrs={'_number': 41}, intermediate_values={}, params_in_internal_repr={'x': -4.210993972979335}, trial_id=41),\n",
       " FrozenTrial(number=42, state=<TrialState.COMPLETE: 1>, value=4.120061705521493, datetime_start=datetime.datetime(2019, 5, 7, 20, 16, 37, 501412), datetime_complete=datetime.datetime(2019, 5, 7, 20, 16, 37, 560818), params={'x': 4.029793513025769}, user_attrs={}, system_attrs={'_number': 42}, intermediate_values={}, params_in_internal_repr={'x': 4.029793513025769}, trial_id=42),\n",
       " FrozenTrial(number=43, state=<TrialState.COMPLETE: 1>, value=31.455985032109385, datetime_start=datetime.datetime(2019, 5, 7, 20, 16, 37, 576950), datetime_complete=datetime.datetime(2019, 5, 7, 20, 16, 37, 634057), params={'x': 7.608563544447846}, user_attrs={}, system_attrs={'_number': 43}, intermediate_values={}, params_in_internal_repr={'x': 7.608563544447846}, trial_id=43),\n",
       " FrozenTrial(number=44, state=<TrialState.COMPLETE: 1>, value=70.06844277052627, datetime_start=datetime.datetime(2019, 5, 7, 20, 16, 37, 648830), datetime_complete=datetime.datetime(2019, 5, 7, 20, 16, 37, 698743), params={'x': -6.370689503889526}, user_attrs={}, system_attrs={'_number': 44}, intermediate_values={}, params_in_internal_repr={'x': -6.370689503889526}, trial_id=44),\n",
       " FrozenTrial(number=45, state=<TrialState.COMPLETE: 1>, value=0.0037469906122592836, datetime_start=datetime.datetime(2019, 5, 7, 20, 16, 37, 710335), datetime_complete=datetime.datetime(2019, 5, 7, 20, 16, 37, 766021), params={'x': 1.938787332910097}, user_attrs={}, system_attrs={'_number': 45}, intermediate_values={}, params_in_internal_repr={'x': 1.938787332910097}, trial_id=45),\n",
       " FrozenTrial(number=46, state=<TrialState.COMPLETE: 1>, value=2.1902139711517754, datetime_start=datetime.datetime(2019, 5, 7, 20, 16, 37, 783991), datetime_complete=datetime.datetime(2019, 5, 7, 20, 16, 37, 843755), params={'x': 3.4799371510816854}, user_attrs={}, system_attrs={'_number': 46}, intermediate_values={}, params_in_internal_repr={'x': 3.4799371510816854}, trial_id=46),\n",
       " FrozenTrial(number=47, state=<TrialState.COMPLETE: 1>, value=2.7348966832588193, datetime_start=datetime.datetime(2019, 5, 7, 20, 16, 37, 860027), datetime_complete=datetime.datetime(2019, 5, 7, 20, 16, 37, 923775), params={'x': 0.346247695917306}, user_attrs={}, system_attrs={'_number': 47}, intermediate_values={}, params_in_internal_repr={'x': 0.346247695917306}, trial_id=47),\n",
       " FrozenTrial(number=48, state=<TrialState.COMPLETE: 1>, value=9.418344698334552, datetime_start=datetime.datetime(2019, 5, 7, 20, 16, 37, 938728), datetime_complete=datetime.datetime(2019, 5, 7, 20, 16, 37, 998337), params={'x': 5.068932175583969}, user_attrs={}, system_attrs={'_number': 48}, intermediate_values={}, params_in_internal_repr={'x': 5.068932175583969}, trial_id=48),\n",
       " FrozenTrial(number=49, state=<TrialState.COMPLETE: 1>, value=0.0217803815694085, datetime_start=datetime.datetime(2019, 5, 7, 20, 16, 38, 13307), datetime_complete=datetime.datetime(2019, 5, 7, 20, 16, 38, 62998), params={'x': 2.1475817792595295}, user_attrs={}, system_attrs={'_number': 49}, intermediate_values={}, params_in_internal_repr={'x': 2.1475817792595295}, trial_id=49),\n",
       " FrozenTrial(number=50, state=<TrialState.COMPLETE: 1>, value=55.78204145881736, datetime_start=datetime.datetime(2019, 5, 7, 20, 16, 38, 84518), datetime_complete=datetime.datetime(2019, 5, 7, 20, 16, 38, 144695), params={'x': 9.468737608111384}, user_attrs={}, system_attrs={'_number': 50}, intermediate_values={}, params_in_internal_repr={'x': 9.468737608111384}, trial_id=50),\n",
       " FrozenTrial(number=51, state=<TrialState.COMPLETE: 1>, value=7.2551863908033765, datetime_start=datetime.datetime(2019, 5, 7, 20, 16, 38, 159076), datetime_complete=datetime.datetime(2019, 5, 7, 20, 16, 38, 216500), params={'x': -0.6935453199831956}, user_attrs={}, system_attrs={'_number': 51}, intermediate_values={}, params_in_internal_repr={'x': -0.6935453199831956}, trial_id=51),\n",
       " FrozenTrial(number=52, state=<TrialState.COMPLETE: 1>, value=36.83657098376698, datetime_start=datetime.datetime(2019, 5, 7, 20, 16, 38, 227710), datetime_complete=datetime.datetime(2019, 5, 7, 20, 16, 38, 285837), params={'x': 8.069313880807861}, user_attrs={}, system_attrs={'_number': 52}, intermediate_values={}, params_in_internal_repr={'x': 8.069313880807861}, trial_id=52),\n",
       " FrozenTrial(number=53, state=<TrialState.COMPLETE: 1>, value=1.1618151204500178, datetime_start=datetime.datetime(2019, 5, 7, 20, 16, 38, 297900), datetime_complete=datetime.datetime(2019, 5, 7, 20, 16, 38, 342745), params={'x': 0.9221247194364193}, user_attrs={}, system_attrs={'_number': 53}, intermediate_values={}, params_in_internal_repr={'x': 0.9221247194364193}, trial_id=53),\n",
       " FrozenTrial(number=54, state=<TrialState.COMPLETE: 1>, value=17.723134519800393, datetime_start=datetime.datetime(2019, 5, 7, 20, 16, 38, 357334), datetime_complete=datetime.datetime(2019, 5, 7, 20, 16, 38, 413262), params={'x': -2.2098853333315853}, user_attrs={}, system_attrs={'_number': 54}, intermediate_values={}, params_in_internal_repr={'x': -2.2098853333315853}, trial_id=54),\n",
       " FrozenTrial(number=55, state=<TrialState.COMPLETE: 1>, value=19.432969506955008, datetime_start=datetime.datetime(2019, 5, 7, 20, 16, 38, 428616), datetime_complete=datetime.datetime(2019, 5, 7, 20, 16, 38, 490050), params={'x': 6.408284190811092}, user_attrs={}, system_attrs={'_number': 55}, intermediate_values={}, params_in_internal_repr={'x': 6.408284190811092}, trial_id=55),\n",
       " FrozenTrial(number=56, state=<TrialState.COMPLETE: 1>, value=7.234689446964936, datetime_start=datetime.datetime(2019, 5, 7, 20, 16, 38, 502609), datetime_complete=datetime.datetime(2019, 5, 7, 20, 16, 38, 549877), params={'x': 4.689737802642655}, user_attrs={}, system_attrs={'_number': 56}, intermediate_values={}, params_in_internal_repr={'x': 4.689737802642655}, trial_id=56),\n",
       " FrozenTrial(number=57, state=<TrialState.COMPLETE: 1>, value=35.75227483127938, datetime_start=datetime.datetime(2019, 5, 7, 20, 16, 38, 561379), datetime_complete=datetime.datetime(2019, 5, 7, 20, 16, 38, 609248), params={'x': -3.979320599472768}, user_attrs={}, system_attrs={'_number': 57}, intermediate_values={}, params_in_internal_repr={'x': -3.979320599472768}, trial_id=57),\n",
       " FrozenTrial(number=58, state=<TrialState.COMPLETE: 1>, value=2.278118362392725, datetime_start=datetime.datetime(2019, 5, 7, 20, 16, 38, 622590), datetime_complete=datetime.datetime(2019, 5, 7, 20, 16, 38, 674976), params={'x': 3.5093436859750415}, user_attrs={}, system_attrs={'_number': 58}, intermediate_values={}, params_in_internal_repr={'x': 3.5093436859750415}, trial_id=58),\n",
       " FrozenTrial(number=59, state=<TrialState.COMPLETE: 1>, value=5.599800619303134, datetime_start=datetime.datetime(2019, 5, 7, 20, 16, 38, 688831), datetime_complete=datetime.datetime(2019, 5, 7, 20, 16, 38, 748621), params={'x': -0.36638978600380523}, user_attrs={}, system_attrs={'_number': 59}, intermediate_values={}, params_in_internal_repr={'x': -0.36638978600380523}, trial_id=59),\n",
       " FrozenTrial(number=60, state=<TrialState.COMPLETE: 1>, value=10.789527017359895, datetime_start=datetime.datetime(2019, 5, 7, 20, 16, 38, 764189), datetime_complete=datetime.datetime(2019, 5, 7, 20, 16, 38, 816338), params={'x': -1.2847415449864383}, user_attrs={}, system_attrs={'_number': 60}, intermediate_values={}, params_in_internal_repr={'x': -1.2847415449864383}, trial_id=60),\n",
       " FrozenTrial(number=61, state=<TrialState.COMPLETE: 1>, value=11.861169727810816, datetime_start=datetime.datetime(2019, 5, 7, 20, 16, 38, 831521), datetime_complete=datetime.datetime(2019, 5, 7, 20, 16, 38, 883332), params={'x': 5.444004896600877}, user_attrs={}, system_attrs={'_number': 61}, intermediate_values={}, params_in_internal_repr={'x': 5.444004896600877}, trial_id=61),\n",
       " FrozenTrial(number=62, state=<TrialState.COMPLETE: 1>, value=50.474655652417546, datetime_start=datetime.datetime(2019, 5, 7, 20, 16, 38, 898621), datetime_complete=datetime.datetime(2019, 5, 7, 20, 16, 38, 951475), params={'x': -5.104551755910963}, user_attrs={}, system_attrs={'_number': 62}, intermediate_values={}, params_in_internal_repr={'x': -5.104551755910963}, trial_id=62),\n",
       " FrozenTrial(number=63, state=<TrialState.COMPLETE: 1>, value=1.8554763654011428, datetime_start=datetime.datetime(2019, 5, 7, 20, 16, 38, 964197), datetime_complete=datetime.datetime(2019, 5, 7, 20, 16, 39, 14492), params={'x': 0.6378412847978607}, user_attrs={}, system_attrs={'_number': 63}, intermediate_values={}, params_in_internal_repr={'x': 0.6378412847978607}, trial_id=63),\n",
       " FrozenTrial(number=64, state=<TrialState.COMPLETE: 1>, value=83.45318757877205, datetime_start=datetime.datetime(2019, 5, 7, 20, 16, 39, 30010), datetime_complete=datetime.datetime(2019, 5, 7, 20, 16, 39, 77259), params={'x': -7.135271620415676}, user_attrs={}, system_attrs={'_number': 64}, intermediate_values={}, params_in_internal_repr={'x': -7.135271620415676}, trial_id=64),\n",
       " FrozenTrial(number=65, state=<TrialState.COMPLETE: 1>, value=0.3353206242892632, datetime_start=datetime.datetime(2019, 5, 7, 20, 16, 39, 89489), datetime_complete=datetime.datetime(2019, 5, 7, 20, 16, 39, 134354), params={'x': 2.5790687560983265}, user_attrs={}, system_attrs={'_number': 65}, intermediate_values={}, params_in_internal_repr={'x': 2.5790687560983265}, trial_id=65),\n",
       " FrozenTrial(number=66, state=<TrialState.COMPLETE: 1>, value=0.058369528130398626, datetime_start=datetime.datetime(2019, 5, 7, 20, 16, 39, 147578), datetime_complete=datetime.datetime(2019, 5, 7, 20, 16, 39, 195281), params={'x': 2.2415978644988375}, user_attrs={}, system_attrs={'_number': 66}, intermediate_values={}, params_in_internal_repr={'x': 2.2415978644988375}, trial_id=66),\n",
       " FrozenTrial(number=67, state=<TrialState.COMPLETE: 1>, value=0.005782091447939076, datetime_start=datetime.datetime(2019, 5, 7, 20, 16, 39, 207660), datetime_complete=datetime.datetime(2019, 5, 7, 20, 16, 39, 257767), params={'x': 1.9239599352450363}, user_attrs={}, system_attrs={'_number': 67}, intermediate_values={}, params_in_internal_repr={'x': 1.9239599352450363}, trial_id=67),\n",
       " FrozenTrial(number=68, state=<TrialState.COMPLETE: 1>, value=0.9773593238684619, datetime_start=datetime.datetime(2019, 5, 7, 20, 16, 39, 272751), datetime_complete=datetime.datetime(2019, 5, 7, 20, 16, 39, 319200), params={'x': 2.9886148511267985}, user_attrs={}, system_attrs={'_number': 68}, intermediate_values={}, params_in_internal_repr={'x': 2.9886148511267985}, trial_id=68),\n",
       " FrozenTrial(number=69, state=<TrialState.COMPLETE: 1>, value=0.028125475195924475, datetime_start=datetime.datetime(2019, 5, 7, 20, 16, 39, 332628), datetime_complete=datetime.datetime(2019, 5, 7, 20, 16, 39, 386075), params={'x': 1.8322934849329804}, user_attrs={}, system_attrs={'_number': 69}, intermediate_values={}, params_in_internal_repr={'x': 1.8322934849329804}, trial_id=69),\n",
       " FrozenTrial(number=70, state=<TrialState.COMPLETE: 1>, value=18.998487892037403, datetime_start=datetime.datetime(2019, 5, 7, 20, 16, 39, 398964), datetime_complete=datetime.datetime(2019, 5, 7, 20, 16, 39, 449095), params={'x': -2.3587254894105687}, user_attrs={}, system_attrs={'_number': 70}, intermediate_values={}, params_in_internal_repr={'x': -2.3587254894105687}, trial_id=70),\n",
       " FrozenTrial(number=71, state=<TrialState.COMPLETE: 1>, value=4.178847399683546, datetime_start=datetime.datetime(2019, 5, 7, 20, 16, 39, 461727), datetime_complete=datetime.datetime(2019, 5, 7, 20, 16, 39, 509794), params={'x': -0.04422293297075286}, user_attrs={}, system_attrs={'_number': 71}, intermediate_values={}, params_in_internal_repr={'x': -0.04422293297075286}, trial_id=71),\n",
       " FrozenTrial(number=72, state=<TrialState.COMPLETE: 1>, value=12.547711884261284, datetime_start=datetime.datetime(2019, 5, 7, 20, 16, 39, 524997), datetime_complete=datetime.datetime(2019, 5, 7, 20, 16, 39, 573261), params={'x': -1.5422749588733626}, user_attrs={}, system_attrs={'_number': 72}, intermediate_values={}, params_in_internal_repr={'x': -1.5422749588733626}, trial_id=72),\n",
       " FrozenTrial(number=73, state=<TrialState.COMPLETE: 1>, value=0.5976553925258974, datetime_start=datetime.datetime(2019, 5, 7, 20, 16, 39, 587955), datetime_complete=datetime.datetime(2019, 5, 7, 20, 16, 39, 635438), params={'x': 1.2269182497782674}, user_attrs={}, system_attrs={'_number': 73}, intermediate_values={}, params_in_internal_repr={'x': 1.2269182497782674}, trial_id=73),\n",
       " FrozenTrial(number=74, state=<TrialState.COMPLETE: 1>, value=4.524102873159502, datetime_start=datetime.datetime(2019, 5, 7, 20, 16, 39, 650766), datetime_complete=datetime.datetime(2019, 5, 7, 20, 16, 39, 702793), params={'x': 4.126993858279685}, user_attrs={}, system_attrs={'_number': 74}, intermediate_values={}, params_in_internal_repr={'x': 4.126993858279685}, trial_id=74),\n",
       " FrozenTrial(number=75, state=<TrialState.COMPLETE: 1>, value=2.288402247274734, datetime_start=datetime.datetime(2019, 5, 7, 20, 16, 39, 715513), datetime_complete=datetime.datetime(2019, 5, 7, 20, 16, 39, 766914), params={'x': 3.5127465905678763}, user_attrs={}, system_attrs={'_number': 75}, intermediate_values={}, params_in_internal_repr={'x': 3.5127465905678763}, trial_id=75),\n",
       " FrozenTrial(number=76, state=<TrialState.COMPLETE: 1>, value=6.934471334561723, datetime_start=datetime.datetime(2019, 5, 7, 20, 16, 39, 781540), datetime_complete=datetime.datetime(2019, 5, 7, 20, 16, 39, 829558), params={'x': 4.633338439046854}, user_attrs={}, system_attrs={'_number': 76}, intermediate_values={}, params_in_internal_repr={'x': 4.633338439046854}, trial_id=76),\n",
       " FrozenTrial(number=77, state=<TrialState.COMPLETE: 1>, value=22.056198900487843, datetime_start=datetime.datetime(2019, 5, 7, 20, 16, 39, 842337), datetime_complete=datetime.datetime(2019, 5, 7, 20, 16, 39, 890141), params={'x': 6.696402761740931}, user_attrs={}, system_attrs={'_number': 77}, intermediate_values={}, params_in_internal_repr={'x': 6.696402761740931}, trial_id=77),\n",
       " FrozenTrial(number=78, state=<TrialState.COMPLETE: 1>, value=23.653793956158047, datetime_start=datetime.datetime(2019, 5, 7, 20, 16, 39, 903193), datetime_complete=datetime.datetime(2019, 5, 7, 20, 16, 39, 959763), params={'x': -2.86351662443525}, user_attrs={}, system_attrs={'_number': 78}, intermediate_values={}, params_in_internal_repr={'x': -2.86351662443525}, trial_id=78),\n",
       " FrozenTrial(number=79, state=<TrialState.COMPLETE: 1>, value=15.660746151367555, datetime_start=datetime.datetime(2019, 5, 7, 20, 16, 39, 979088), datetime_complete=datetime.datetime(2019, 5, 7, 20, 16, 40, 37657), params={'x': 5.957366062340904}, user_attrs={}, system_attrs={'_number': 79}, intermediate_values={}, params_in_internal_repr={'x': 5.957366062340904}, trial_id=79),\n",
       " FrozenTrial(number=80, state=<TrialState.COMPLETE: 1>, value=9.073577590470988, datetime_start=datetime.datetime(2019, 5, 7, 20, 16, 40, 57166), datetime_complete=datetime.datetime(2019, 5, 7, 20, 16, 40, 116376), params={'x': -1.0122379704251434}, user_attrs={}, system_attrs={'_number': 80}, intermediate_values={}, params_in_internal_repr={'x': -1.0122379704251434}, trial_id=80),\n",
       " FrozenTrial(number=81, state=<TrialState.COMPLETE: 1>, value=4.3742730166996235, datetime_start=datetime.datetime(2019, 5, 7, 20, 16, 40, 134607), datetime_complete=datetime.datetime(2019, 5, 7, 20, 16, 40, 192233), params={'x': -0.09147627686751991}, user_attrs={}, system_attrs={'_number': 81}, intermediate_values={}, params_in_internal_repr={'x': -0.09147627686751991}, trial_id=81),\n",
       " FrozenTrial(number=82, state=<TrialState.COMPLETE: 1>, value=1.490301712943014, datetime_start=datetime.datetime(2019, 5, 7, 20, 16, 40, 209708), datetime_complete=datetime.datetime(2019, 5, 7, 20, 16, 40, 263052), params={'x': 0.7792208582454343}, user_attrs={}, system_attrs={'_number': 82}, intermediate_values={}, params_in_internal_repr={'x': 0.7792208582454343}, trial_id=82),\n",
       " FrozenTrial(number=83, state=<TrialState.COMPLETE: 1>, value=0.007417767248222972, datetime_start=datetime.datetime(2019, 5, 7, 20, 16, 40, 279854), datetime_complete=datetime.datetime(2019, 5, 7, 20, 16, 40, 333387), params={'x': 1.9138735392099329}, user_attrs={}, system_attrs={'_number': 83}, intermediate_values={}, params_in_internal_repr={'x': 1.9138735392099329}, trial_id=83),\n",
       " FrozenTrial(number=84, state=<TrialState.COMPLETE: 1>, value=1.662659292576854, datetime_start=datetime.datetime(2019, 5, 7, 20, 16, 40, 351381), datetime_complete=datetime.datetime(2019, 5, 7, 20, 16, 40, 404678), params={'x': 3.2894414653550017}, user_attrs={}, system_attrs={'_number': 84}, intermediate_values={}, params_in_internal_repr={'x': 3.2894414653550017}, trial_id=84),\n",
       " FrozenTrial(number=85, state=<TrialState.COMPLETE: 1>, value=10.940999352464315, datetime_start=datetime.datetime(2019, 5, 7, 20, 16, 40, 418750), datetime_complete=datetime.datetime(2019, 5, 7, 20, 16, 40, 472507), params={'x': 5.307718148885167}, user_attrs={}, system_attrs={'_number': 85}, intermediate_values={}, params_in_internal_repr={'x': 5.307718148885167}, trial_id=85),\n",
       " FrozenTrial(number=86, state=<TrialState.COMPLETE: 1>, value=33.04066537844255, datetime_start=datetime.datetime(2019, 5, 7, 20, 16, 40, 489405), datetime_complete=datetime.datetime(2019, 5, 7, 20, 16, 40, 542219), params={'x': -3.748101023680998}, user_attrs={}, system_attrs={'_number': 86}, intermediate_values={}, params_in_internal_repr={'x': -3.748101023680998}, trial_id=86),\n",
       " FrozenTrial(number=87, state=<TrialState.COMPLETE: 1>, value=32.2637327655232, datetime_start=datetime.datetime(2019, 5, 7, 20, 16, 40, 556582), datetime_complete=datetime.datetime(2019, 5, 7, 20, 16, 40, 607379), params={'x': 7.68011731969712}, user_attrs={}, system_attrs={'_number': 87}, intermediate_values={}, params_in_internal_repr={'x': 7.68011731969712}, trial_id=87),\n",
       " FrozenTrial(number=88, state=<TrialState.COMPLETE: 1>, value=42.249650665296954, datetime_start=datetime.datetime(2019, 5, 7, 20, 16, 40, 624509), datetime_complete=datetime.datetime(2019, 5, 7, 20, 16, 40, 676961), params={'x': 8.49997312804422}, user_attrs={}, system_attrs={'_number': 88}, intermediate_values={}, params_in_internal_repr={'x': 8.49997312804422}, trial_id=88),\n",
       " FrozenTrial(number=89, state=<TrialState.COMPLETE: 1>, value=62.442739195951404, datetime_start=datetime.datetime(2019, 5, 7, 20, 16, 40, 691281), datetime_complete=datetime.datetime(2019, 5, 7, 20, 16, 40, 740176), params={'x': 9.902071829333837}, user_attrs={}, system_attrs={'_number': 89}, intermediate_values={}, params_in_internal_repr={'x': 9.902071829333837}, trial_id=89),\n",
       " FrozenTrial(number=90, state=<TrialState.COMPLETE: 1>, value=14.637797984154844, datetime_start=datetime.datetime(2019, 5, 7, 20, 16, 40, 758187), datetime_complete=datetime.datetime(2019, 5, 7, 20, 16, 40, 807903), params={'x': -1.82593753009048}, user_attrs={}, system_attrs={'_number': 90}, intermediate_values={}, params_in_internal_repr={'x': -1.82593753009048}, trial_id=90),\n",
       " FrozenTrial(number=91, state=<TrialState.COMPLETE: 1>, value=26.829784367354595, datetime_start=datetime.datetime(2019, 5, 7, 20, 16, 40, 825841), datetime_complete=datetime.datetime(2019, 5, 7, 20, 16, 40, 876586), params={'x': 7.179747519653308}, user_attrs={}, system_attrs={'_number': 91}, intermediate_values={}, params_in_internal_repr={'x': 7.179747519653308}, trial_id=91),\n",
       " FrozenTrial(number=92, state=<TrialState.COMPLETE: 1>, value=2.552957008565473, datetime_start=datetime.datetime(2019, 5, 7, 20, 16, 40, 894431), datetime_complete=datetime.datetime(2019, 5, 7, 20, 16, 40, 944273), params={'x': 0.40220245069487204}, user_attrs={}, system_attrs={'_number': 92}, intermediate_values={}, params_in_internal_repr={'x': 0.40220245069487204}, trial_id=92),\n",
       " FrozenTrial(number=93, state=<TrialState.COMPLETE: 1>, value=137.89311389933033, datetime_start=datetime.datetime(2019, 5, 7, 20, 16, 40, 959770), datetime_complete=datetime.datetime(2019, 5, 7, 20, 16, 41, 10871), params={'x': -9.742789868652608}, user_attrs={}, system_attrs={'_number': 93}, intermediate_values={}, params_in_internal_repr={'x': -9.742789868652608}, trial_id=93),\n",
       " FrozenTrial(number=94, state=<TrialState.COMPLETE: 1>, value=48.12428437240849, datetime_start=datetime.datetime(2019, 5, 7, 20, 16, 41, 25587), datetime_complete=datetime.datetime(2019, 5, 7, 20, 16, 41, 73177), params={'x': -4.937166883707533}, user_attrs={}, system_attrs={'_number': 94}, intermediate_values={}, params_in_internal_repr={'x': -4.937166883707533}, trial_id=94),\n",
       " FrozenTrial(number=95, state=<TrialState.COMPLETE: 1>, value=0.000704718985733366, datetime_start=datetime.datetime(2019, 5, 7, 20, 16, 41, 92477), datetime_complete=datetime.datetime(2019, 5, 7, 20, 16, 41, 140970), params={'x': 2.026546543762482}, user_attrs={}, system_attrs={'_number': 95}, intermediate_values={}, params_in_internal_repr={'x': 2.026546543762482}, trial_id=95),\n",
       " FrozenTrial(number=96, state=<TrialState.COMPLETE: 1>, value=0.6246481917803284, datetime_start=datetime.datetime(2019, 5, 7, 20, 16, 41, 157485), datetime_complete=datetime.datetime(2019, 5, 7, 20, 16, 41, 213362), params={'x': 2.7903468806671716}, user_attrs={}, system_attrs={'_number': 96}, intermediate_values={}, params_in_internal_repr={'x': 2.7903468806671716}, trial_id=96),\n",
       " FrozenTrial(number=97, state=<TrialState.COMPLETE: 1>, value=3.798706891042834, datetime_start=datetime.datetime(2019, 5, 7, 20, 16, 41, 230989), datetime_complete=datetime.datetime(2019, 5, 7, 20, 16, 41, 285192), params={'x': 3.9490271652911444}, user_attrs={}, system_attrs={'_number': 97}, intermediate_values={}, params_in_internal_repr={'x': 3.9490271652911444}, trial_id=97),\n",
       " FrozenTrial(number=98, state=<TrialState.COMPLETE: 1>, value=0.1786462219060774, datetime_start=datetime.datetime(2019, 5, 7, 20, 16, 41, 302053), datetime_complete=datetime.datetime(2019, 5, 7, 20, 16, 41, 354722), params={'x': 1.5773343852333415}, user_attrs={}, system_attrs={'_number': 98}, intermediate_values={}, params_in_internal_repr={'x': 1.5773343852333415}, trial_id=98),\n",
       " FrozenTrial(number=99, state=<TrialState.COMPLETE: 1>, value=21.33784142636953, datetime_start=datetime.datetime(2019, 5, 7, 20, 16, 41, 372121), datetime_complete=datetime.datetime(2019, 5, 7, 20, 16, 41, 428232), params={'x': -2.619290143124756}, user_attrs={}, system_attrs={'_number': 99}, intermediate_values={}, params_in_internal_repr={'x': -2.619290143124756}, trial_id=99)]"
      ]
     },
     "execution_count": 7,
     "metadata": {},
     "output_type": "execute_result"
    }
   ],
   "source": [
    "study.trials"
   ]
  },
  {
   "cell_type": "markdown",
   "metadata": {},
   "source": [
    "# Advanced Configurations\n",
    "https://optuna.readthedocs.io/en/latest/tutorial/configurations.html"
   ]
  },
  {
   "cell_type": "code",
   "execution_count": 8,
   "metadata": {},
   "outputs": [],
   "source": [
    "def objective(trial):\n",
    "    # Categorical parameter\n",
    "    optimizer = trial.suggest_categorical('optimizer', ['MomentumSGD', 'Adam'])\n",
    "\n",
    "    # Int parameter\n",
    "    num_layers = trial.suggest_int('num_layers', 1, 3)\n",
    "\n",
    "    # Uniform parameter\n",
    "    dropout_rate = trial.suggest_uniform('dropout_rate', 0.0, 1.0)\n",
    "\n",
    "    # Loguniform parameter\n",
    "    learning_rate = trial.suggest_loguniform('learning_rate', 1e-5, 1e-2)\n",
    "\n",
    "    # Discrete-uniform parameter\n",
    "    drop_path_rate = trial.suggest_discrete_uniform('drop_path_rate', 0.0, 1.0, 0.1)"
   ]
  },
  {
   "cell_type": "code",
   "execution_count": 9,
   "metadata": {},
   "outputs": [],
   "source": [
    "# カテゴリカルな値を基に分岐\n",
    "def objective(trial):\n",
    "    classifier_name = trial.suggest_categorical('classifier', ['SVC', 'RandomForest'])\n",
    "    if classifier_name == 'SVC':\n",
    "        svc_c = trial.suggest_loguniform('svc_c', 1e-10, 1e10)\n",
    "        classifier_obj = sklearn.svm.SVC(C=svc_c)\n",
    "    else:\n",
    "        rf_max_depth = int(trial.suggest_loguniform('rf_max_depth', 2, 32))\n",
    "        classifier_obj = sklearn.ensemble.RandomForestClassifier(max_depth=rf_max_depth)\n"
   ]
  },
  {
   "cell_type": "code",
   "execution_count": 10,
   "metadata": {},
   "outputs": [],
   "source": [
    "# 層数をチューニング可能に\n",
    "def create_model(trial):\n",
    "    n_layers = trial.suggest_int('n_layers', 1, 3)\n",
    "\n",
    "    layers = []\n",
    "    for i in range(n_layers):\n",
    "        n_units = int(trial.suggest_loguniform('n_units_l{}'.format(i), 4, 128))\n",
    "        layers.append(L.Linear(None, n_units))\n",
    "        layers.append(F.relu)\n",
    "    layers.append(L.Linear(None, 10))\n",
    "\n",
    "    return chainer.Sequential(*layers)"
   ]
  },
  {
   "cell_type": "markdown",
   "metadata": {},
   "source": [
    "# Saving/Resuming Study with RDB Backend\n",
    "https://optuna.readthedocs.io/en/latest/tutorial/rdb.html"
   ]
  },
  {
   "cell_type": "code",
   "execution_count": 11,
   "metadata": {},
   "outputs": [
    {
     "name": "stderr",
     "output_type": "stream",
     "text": [
      "[I 2019-05-07 20:55:49,110] A new study created with name: example-study\n"
     ]
    }
   ],
   "source": [
    "study_name = 'example-study'  # Unique identifier of the study.\n",
    "study = optuna.create_study(study_name=study_name, storage='sqlite:///example.db')"
   ]
  },
  {
   "cell_type": "code",
   "execution_count": 12,
   "metadata": {},
   "outputs": [
    {
     "name": "stderr",
     "output_type": "stream",
     "text": [
      "[I 2019-05-07 20:56:02,512] Finished trial#0 resulted in value: 100.20424278131544. Current best value is 100.20424278131544 with parameters: {'x': -8.010206929994776}.\n",
      "[I 2019-05-07 20:56:02,616] Finished trial#1 resulted in value: 1.1255807069892751. Current best value is 1.1255807069892751 with parameters: {'x': 3.060933884362864}.\n",
      "[I 2019-05-07 20:56:02,723] Finished trial#2 resulted in value: 131.26399104844756. Current best value is 1.1255807069892751 with parameters: {'x': 3.060933884362864}.\n"
     ]
    }
   ],
   "source": [
    "def objective(trial):\n",
    "    x = trial.suggest_uniform('x', -10, 10)\n",
    "    return (x - 2) ** 2\n",
    "\n",
    "study.optimize(objective, n_trials=3)"
   ]
  },
  {
   "cell_type": "code",
   "execution_count": 13,
   "metadata": {},
   "outputs": [
    {
     "name": "stderr",
     "output_type": "stream",
     "text": [
      "[I 2019-05-07 20:56:17,766] Using an existing study with name 'example-study' instead of creating a new one.\n",
      "[I 2019-05-07 20:56:17,908] Finished trial#3 resulted in value: 0.15047833037514224. Current best value is 0.15047833037514224 with parameters: {'x': 2.3879153649639857}.\n",
      "[I 2019-05-07 20:56:18,008] Finished trial#4 resulted in value: 61.81737190857419. Current best value is 0.15047833037514224 with parameters: {'x': 2.3879153649639857}.\n",
      "[I 2019-05-07 20:56:18,110] Finished trial#5 resulted in value: 89.44056464130801. Current best value is 0.15047833037514224 with parameters: {'x': 2.3879153649639857}.\n"
     ]
    }
   ],
   "source": [
    "# チューニング再開\n",
    "study = optuna.create_study(study_name='example-study', storage='sqlite:///example.db', load_if_exists=True)\n",
    "study.optimize(objective, n_trials=3)"
   ]
  },
  {
   "cell_type": "code",
   "execution_count": 15,
   "metadata": {},
   "outputs": [
    {
     "name": "stderr",
     "output_type": "stream",
     "text": [
      "[I 2019-05-07 20:56:55,763] Using an existing study with name 'example-study' instead of creating a new one.\n"
     ]
    },
    {
     "data": {
      "text/html": [
       "<div>\n",
       "<style scoped>\n",
       "    .dataframe tbody tr th:only-of-type {\n",
       "        vertical-align: middle;\n",
       "    }\n",
       "\n",
       "    .dataframe tbody tr th {\n",
       "        vertical-align: top;\n",
       "    }\n",
       "\n",
       "    .dataframe thead tr th {\n",
       "        text-align: left;\n",
       "    }\n",
       "</style>\n",
       "<table border=\"1\" class=\"dataframe\">\n",
       "  <thead>\n",
       "    <tr>\n",
       "      <th></th>\n",
       "      <th>number</th>\n",
       "      <th>state</th>\n",
       "      <th>value</th>\n",
       "      <th>datetime_start</th>\n",
       "      <th>datetime_complete</th>\n",
       "      <th>params</th>\n",
       "      <th>system_attrs</th>\n",
       "    </tr>\n",
       "    <tr>\n",
       "      <th></th>\n",
       "      <th></th>\n",
       "      <th></th>\n",
       "      <th></th>\n",
       "      <th></th>\n",
       "      <th></th>\n",
       "      <th>x</th>\n",
       "      <th>_number</th>\n",
       "    </tr>\n",
       "  </thead>\n",
       "  <tbody>\n",
       "    <tr>\n",
       "      <th>0</th>\n",
       "      <td>0</td>\n",
       "      <td>TrialState.COMPLETE</td>\n",
       "      <td>100.204243</td>\n",
       "      <td>2019-05-07 20:56:02.267170</td>\n",
       "      <td>2019-05-07 20:56:02.496204</td>\n",
       "      <td>-8.010207</td>\n",
       "      <td>0</td>\n",
       "    </tr>\n",
       "    <tr>\n",
       "      <th>1</th>\n",
       "      <td>1</td>\n",
       "      <td>TrialState.COMPLETE</td>\n",
       "      <td>1.125581</td>\n",
       "      <td>2019-05-07 20:56:02.516019</td>\n",
       "      <td>2019-05-07 20:56:02.602798</td>\n",
       "      <td>3.060934</td>\n",
       "      <td>1</td>\n",
       "    </tr>\n",
       "    <tr>\n",
       "      <th>2</th>\n",
       "      <td>2</td>\n",
       "      <td>TrialState.COMPLETE</td>\n",
       "      <td>131.263991</td>\n",
       "      <td>2019-05-07 20:56:02.622081</td>\n",
       "      <td>2019-05-07 20:56:02.709522</td>\n",
       "      <td>-9.457050</td>\n",
       "      <td>2</td>\n",
       "    </tr>\n",
       "    <tr>\n",
       "      <th>3</th>\n",
       "      <td>3</td>\n",
       "      <td>TrialState.COMPLETE</td>\n",
       "      <td>0.150478</td>\n",
       "      <td>2019-05-07 20:56:17.795150</td>\n",
       "      <td>2019-05-07 20:56:17.895036</td>\n",
       "      <td>2.387915</td>\n",
       "      <td>3</td>\n",
       "    </tr>\n",
       "    <tr>\n",
       "      <th>4</th>\n",
       "      <td>4</td>\n",
       "      <td>TrialState.COMPLETE</td>\n",
       "      <td>61.817372</td>\n",
       "      <td>2019-05-07 20:56:17.913219</td>\n",
       "      <td>2019-05-07 20:56:17.996106</td>\n",
       "      <td>9.862402</td>\n",
       "      <td>4</td>\n",
       "    </tr>\n",
       "    <tr>\n",
       "      <th>5</th>\n",
       "      <td>5</td>\n",
       "      <td>TrialState.COMPLETE</td>\n",
       "      <td>89.440565</td>\n",
       "      <td>2019-05-07 20:56:18.013023</td>\n",
       "      <td>2019-05-07 20:56:18.097497</td>\n",
       "      <td>-7.457302</td>\n",
       "      <td>5</td>\n",
       "    </tr>\n",
       "  </tbody>\n",
       "</table>\n",
       "</div>"
      ],
      "text/plain": [
       "  number                state       value             datetime_start  \\\n",
       "                                                                       \n",
       "0      0  TrialState.COMPLETE  100.204243 2019-05-07 20:56:02.267170   \n",
       "1      1  TrialState.COMPLETE    1.125581 2019-05-07 20:56:02.516019   \n",
       "2      2  TrialState.COMPLETE  131.263991 2019-05-07 20:56:02.622081   \n",
       "3      3  TrialState.COMPLETE    0.150478 2019-05-07 20:56:17.795150   \n",
       "4      4  TrialState.COMPLETE   61.817372 2019-05-07 20:56:17.913219   \n",
       "5      5  TrialState.COMPLETE   89.440565 2019-05-07 20:56:18.013023   \n",
       "\n",
       "           datetime_complete    params system_attrs  \n",
       "                                     x      _number  \n",
       "0 2019-05-07 20:56:02.496204 -8.010207            0  \n",
       "1 2019-05-07 20:56:02.602798  3.060934            1  \n",
       "2 2019-05-07 20:56:02.709522 -9.457050            2  \n",
       "3 2019-05-07 20:56:17.895036  2.387915            3  \n",
       "4 2019-05-07 20:56:17.996106  9.862402            4  \n",
       "5 2019-05-07 20:56:18.097497 -7.457302            5  "
      ]
     },
     "execution_count": 15,
     "metadata": {},
     "output_type": "execute_result"
    }
   ],
   "source": [
    "# 実験結果\n",
    "study = optuna.create_study(study_name='example-study', storage='sqlite:///example.db', load_if_exists=True)\n",
    "df = study.trials_dataframe()\n",
    "df"
   ]
  },
  {
   "cell_type": "markdown",
   "metadata": {},
   "source": [
    "# Distributed Optimization\n",
    "マルチノード/プロセス間でのstudyの共有が可能\n",
    "https://optuna.readthedocs.io/en/latest/tutorial/distributed.html\n",
    "# Command-Line Interface\n",
    "コマンドラインからOptunaを実行可能\n",
    "https://optuna.readthedocs.io/en/latest/tutorial/cli.html\n",
    "# User Attributes\n",
    "作者などの属性付与が可能\n",
    "https://optuna.readthedocs.io/en/latest/tutorial/attributes.html\n",
    "# Pruning Unpromising Trials\n",
    "いわゆるearly stoppingが可能\n",
    "https://optuna.readthedocs.io/en/latest/tutorial/pruning.html"
   ]
  }
 ],
 "metadata": {
  "kernelspec": {
   "display_name": "Python 3",
   "language": "python",
   "name": "python3"
  },
  "language_info": {
   "codemirror_mode": {
    "name": "ipython",
    "version": 3
   },
   "file_extension": ".py",
   "mimetype": "text/x-python",
   "name": "python",
   "nbconvert_exporter": "python",
   "pygments_lexer": "ipython3",
   "version": "3.7.0"
  }
 },
 "nbformat": 4,
 "nbformat_minor": 2
}
